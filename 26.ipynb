{
  "nbformat": 4,
  "nbformat_minor": 0,
  "metadata": {
    "colab": {
      "provenance": [],
      "authorship_tag": "ABX9TyO/sIkgT5WgF8rdLPaRTYNt",
      "include_colab_link": true
    },
    "kernelspec": {
      "name": "python3",
      "display_name": "Python 3"
    },
    "language_info": {
      "name": "python"
    }
  },
  "cells": [
    {
      "cell_type": "markdown",
      "metadata": {
        "id": "view-in-github",
        "colab_type": "text"
      },
      "source": [
        "<a href=\"https://colab.research.google.com/github/Emmahgithub/Analisis-Numerico-2025-1/blob/main/26.ipynb\" target=\"_parent\"><img src=\"https://colab.research.google.com/assets/colab-badge.svg\" alt=\"Open In Colab\"/></a>"
      ]
    },
    {
      "cell_type": "markdown",
      "source": [
        "<font color=\"Teal\" face=\"Comic Sans MS,arial\">\n",
        "  <h1 align=\"center\"><i>Tarea 1 Analisis Numerico</i></h1>\n",
        "  </font>\n",
        "  <font color=\"Blue\" face=\"Comic Sans MS,arial\">\n",
        "  <h5 align=\"center\"><i>MARTINEZ ROSAS ZAYDE YAMILE</i></h5>\n",
        "  <h5 align=\"center\"><i>CAMACHO MARIN ANA KAREN</i></h5>\n",
        "  <h5 align=\"center\"><i>LÓPEZ AGUIRRE ROBERTO OCELOTZIN</i></h5>\n",
        "  <h5 align=\"center\"><i>VARGAS BAUTISTA EMMANUEL</i></h5>\n",
        "  </font>"
      ],
      "metadata": {
        "id": "jRRNsGg3iyH5"
      }
    },
    {
      "cell_type": "code",
      "source": [
        "# Librerias\n",
        "import numpy as np"
      ],
      "metadata": {
        "id": "yNtB_cG0X9Vb"
      },
      "execution_count": 2,
      "outputs": []
    },
    {
      "cell_type": "code",
      "source": [
        "def simetrica(A):\n",
        "  \"\"\"Verifica que la matriz A sea simétrica.\"\"\"\n",
        "  n = len(A)\n",
        "  for i in range(n):\n",
        "    for j in range(i, n):\n",
        "      if A[i][j] != A[j][i]:\n",
        "        return False\n",
        "  return True\n",
        "\n",
        "def cholesky_desc_LLt(A):\n",
        "\n",
        "  \"\"\"\n",
        "  Realiza la factorización de Cholesky para una matriz A.\n",
        "  La matriz A debe ser simétrica y definida positiva.\n",
        "\n",
        "  Retorna la matriz triangular inferior L tal que A = L * L^T.\n",
        "  \"\"\"\n",
        "\n",
        "  # Verifica que la matriz sea simétrica\n",
        "  if not simetrica(A):\n",
        "    raise ValueError(\"La matriz no es simétrica.\")\n",
        "\n",
        "\n",
        "  n = len(A) #Tamaño de la matriz\n",
        "  L = [[0.0] * n for _ in range(n)] # L inicia como una matriz de ceros del tamaño que A\n",
        "\n",
        "  # Itera sobre las columnas (y filas, por simetría) de A\n",
        "  for j in range(n):\n",
        "    # Suma de los cuadrados de los elementos anteriores en la fila j\n",
        "    suma_cuadrados = 0.0\n",
        "    for k in range(j):\n",
        "      suma_cuadrados += L[j][k] ** 2\n",
        "\n",
        "    # Calcula el valor diagonal de L\n",
        "    diag = A[j][j] - suma_cuadrados\n",
        "    if diag <= 0:\n",
        "      raise ValueError(\"La matriz no es definida positiva.\")\n",
        "    L[j][j] = diag ** 0.5\n",
        "\n",
        "    # Calcula los elementos debajo de la diagonal en la columna j\n",
        "    for i in range(j + 1, n):\n",
        "      suma_producto = 0.0\n",
        "      for k in range(j):\n",
        "        suma_producto += L[i][k] * L[j][k]\n",
        "      L[i][j] = (A[i][j] - suma_producto) / L[j][j]\n",
        "  return L\n",
        "\n",
        "def cholesky_desc_LDLt(A):\n",
        "\n",
        "  \"\"\"\n",
        "  Realiza la factorización de Cholesky para una matriz A.\n",
        "  La matriz A debe ser simétrica y definida positiva.\n",
        "\n",
        "  Retorna\n",
        "  L, matriz triangular inferior\n",
        "  D, lista que representa la diagonal de la matriz D\n",
        "  tal que A = L * D * L^T.\n",
        "  \"\"\"\n",
        "\n",
        "  # Verifica que la matriz sea simétrica\n",
        "  if not simetrica(A):\n",
        "    raise ValueError(\"La matriz debe ser simétrica.\")\n",
        "\n",
        "  n = len(A) # Tamaño de la matriz\n",
        "  L = [[0.0] * n for _ in range(n)] # Inicializa L como matriz de ceros\n",
        "  D = [0.0] * n # D como lista de ceros\n",
        "\n",
        "  # Itera sobre cada columna j para calcular L y D\n",
        "  for j in range(n):\n",
        "    suma = 0.0\n",
        "    # Calcula la suma de L[j][k]^2 * D[k] para k < j\n",
        "    for k in range(j):\n",
        "      suma += L[j][k] ** 2 * D[k]\n",
        "\n",
        "    # Calcula el valor D[j][j]\n",
        "    D[j] = A[j][j] - suma\n",
        "    if D[j] <= 0:\n",
        "      raise ValueError(\"La matriz no es definida positiva.\")\n",
        "\n",
        "    # Calcula los elementos L[i][j] para i > j\n",
        "    for i in range(j + 1, n):\n",
        "      suma_prod = 0.0\n",
        "      for k in range(j):\n",
        "        suma_prod += L[i][k] * L[j][k] * D[k]\n",
        "      L[i][j] = (A[i][j] - suma_prod) / D[j]\n",
        "\n",
        "    # Establece la diagonal de L en 1\n",
        "    L[j][j] = 1.0\n",
        "\n",
        "  return L, D"
      ],
      "metadata": {
        "id": "52GsUtZ_X_qj"
      },
      "execution_count": 8,
      "outputs": []
    },
    {
      "cell_type": "code",
      "source": [
        "matrices = {\n",
        "    \"A\": [\n",
        "        [2, -1, 0],\n",
        "        [-1, 2, -1],\n",
        "        [0, -1, 2]\n",
        "    ],\n",
        "    \"B\": [\n",
        "        [4, 1, 1, 1],\n",
        "        [1, 3, -1, 1],\n",
        "        [1, -1, 2, 0],\n",
        "        [1, 1, 0, 2]\n",
        "    ],\n",
        "    \"C\": [\n",
        "        [4, 1, -1, 0],\n",
        "        [1, 3, -1, 0],\n",
        "        [-1, -1, 5, 2],\n",
        "        [0, 0, 2, 4]\n",
        "    ],\n",
        "    \"D\": [\n",
        "        [6, 2, 1, -1],\n",
        "        [2, 4, 1, 0],\n",
        "        [1, 1, 4, -1],\n",
        "        [-1, 0, -1, 3]\n",
        "    ]\n",
        "}"
      ],
      "metadata": {
        "id": "aMSLTIIsAK9i"
      },
      "execution_count": 9,
      "outputs": []
    },
    {
      "cell_type": "markdown",
      "source": [
        "#a)"
      ],
      "metadata": {
        "id": "u_ElfMU6XyUb"
      }
    },
    {
      "cell_type": "code",
      "source": [
        "for name, M in matrices.items():\n",
        "    L = np.array(cholesky_desc_LLt(M))\n",
        "    A = np.array(M)\n",
        "    print(f\"\\nMatriz {name}:\")\n",
        "    print(\"L =\\n\", L)\n",
        "    print(\"Lᵗ =\\n\", L.T)\n",
        "    print(\"¿L * Lᵗ ≈ A?:\", np.allclose(L @ L.T, A))"
      ],
      "metadata": {
        "colab": {
          "base_uri": "https://localhost:8080/"
        },
        "id": "cxRryBqqF1Zo",
        "outputId": "3c4dd566-28b5-423b-93de-24c4d261854b"
      },
      "execution_count": 10,
      "outputs": [
        {
          "output_type": "stream",
          "name": "stdout",
          "text": [
            "\n",
            "Matriz A:\n",
            "L =\n",
            " [[ 1.41421356  0.          0.        ]\n",
            " [-0.70710678  1.22474487  0.        ]\n",
            " [ 0.         -0.81649658  1.15470054]]\n",
            "Lᵗ =\n",
            " [[ 1.41421356 -0.70710678  0.        ]\n",
            " [ 0.          1.22474487 -0.81649658]\n",
            " [ 0.          0.          1.15470054]]\n",
            "¿L * Lᵗ ≈ A?: True\n",
            "\n",
            "Matriz B:\n",
            "L =\n",
            " [[ 2.          0.          0.          0.        ]\n",
            " [ 0.5         1.6583124   0.          0.        ]\n",
            " [ 0.5        -0.75377836  1.08711461  0.        ]\n",
            " [ 0.5         0.45226702  0.0836242   1.24034735]]\n",
            "Lᵗ =\n",
            " [[ 2.          0.5         0.5         0.5       ]\n",
            " [ 0.          1.6583124  -0.75377836  0.45226702]\n",
            " [ 0.          0.          1.08711461  0.0836242 ]\n",
            " [ 0.          0.          0.          1.24034735]]\n",
            "¿L * Lᵗ ≈ A?: True\n",
            "\n",
            "Matriz C:\n",
            "L =\n",
            " [[ 2.          0.          0.          0.        ]\n",
            " [ 0.5         1.6583124   0.          0.        ]\n",
            " [-0.5        -0.45226702  2.13200716  0.        ]\n",
            " [ 0.          0.          0.93808315  1.76635217]]\n",
            "Lᵗ =\n",
            " [[ 2.          0.5        -0.5         0.        ]\n",
            " [ 0.          1.6583124  -0.45226702  0.        ]\n",
            " [ 0.          0.          2.13200716  0.93808315]\n",
            " [ 0.          0.          0.          1.76635217]]\n",
            "¿L * Lᵗ ≈ A?: True\n",
            "\n",
            "Matriz D:\n",
            "L =\n",
            " [[ 2.44948974  0.          0.          0.        ]\n",
            " [ 0.81649658  1.82574186  0.          0.        ]\n",
            " [ 0.40824829  0.36514837  1.92353841  0.        ]\n",
            " [-0.40824829  0.18257419 -0.46788772  1.60657433]]\n",
            "Lᵗ =\n",
            " [[ 2.44948974  0.81649658  0.40824829 -0.40824829]\n",
            " [ 0.          1.82574186  0.36514837  0.18257419]\n",
            " [ 0.          0.          1.92353841 -0.46788772]\n",
            " [ 0.          0.          0.          1.60657433]]\n",
            "¿L * Lᵗ ≈ A?: True\n"
          ]
        }
      ]
    },
    {
      "cell_type": "markdown",
      "source": [
        "#b)\n"
      ],
      "metadata": {
        "id": "FGp8_4GOX2ti"
      }
    },
    {
      "cell_type": "code",
      "source": [
        "for name, M in matrices.items():\n",
        "    L, D = cholesky_desc_LDLt(M)\n",
        "    L = np.array(L)\n",
        "    D = np.diag(D)\n",
        "    A = np.array(M)\n",
        "    print(f\"\\nMatriz {name}:\")\n",
        "    print(\"L =\\n\", L)\n",
        "    print(\"D =\\n\", D)\n",
        "    print(\"Lᵗ =\\n\", L.T)\n",
        "    print(\"¿L * D * Lᵗ ≈ A?:\", np.allclose(L @ D @ L.T, A))"
      ],
      "metadata": {
        "colab": {
          "base_uri": "https://localhost:8080/"
        },
        "id": "5KLOghqwX4gy",
        "outputId": "24d55a3f-849f-44ca-ad7b-97e9a9c92ec3"
      },
      "execution_count": 11,
      "outputs": [
        {
          "output_type": "stream",
          "name": "stdout",
          "text": [
            "\n",
            "Matriz A:\n",
            "L =\n",
            " [[ 1.          0.          0.        ]\n",
            " [-0.5         1.          0.        ]\n",
            " [ 0.         -0.66666667  1.        ]]\n",
            "D =\n",
            " [[2.         0.         0.        ]\n",
            " [0.         1.5        0.        ]\n",
            " [0.         0.         1.33333333]]\n",
            "Lᵗ =\n",
            " [[ 1.         -0.5         0.        ]\n",
            " [ 0.          1.         -0.66666667]\n",
            " [ 0.          0.          1.        ]]\n",
            "¿L * D * Lᵗ ≈ A?: True\n",
            "\n",
            "Matriz B:\n",
            "L =\n",
            " [[ 1.          0.          0.          0.        ]\n",
            " [ 0.25        1.          0.          0.        ]\n",
            " [ 0.25       -0.45454545  1.          0.        ]\n",
            " [ 0.25        0.27272727  0.07692308  1.        ]]\n",
            "D =\n",
            " [[4.         0.         0.         0.        ]\n",
            " [0.         2.75       0.         0.        ]\n",
            " [0.         0.         1.18181818 0.        ]\n",
            " [0.         0.         0.         1.53846154]]\n",
            "Lᵗ =\n",
            " [[ 1.          0.25        0.25        0.25      ]\n",
            " [ 0.          1.         -0.45454545  0.27272727]\n",
            " [ 0.          0.          1.          0.07692308]\n",
            " [ 0.          0.          0.          1.        ]]\n",
            "¿L * D * Lᵗ ≈ A?: True\n",
            "\n",
            "Matriz C:\n",
            "L =\n",
            " [[ 1.          0.          0.          0.        ]\n",
            " [ 0.25        1.          0.          0.        ]\n",
            " [-0.25       -0.27272727  1.          0.        ]\n",
            " [ 0.          0.          0.44        1.        ]]\n",
            "D =\n",
            " [[4.         0.         0.         0.        ]\n",
            " [0.         2.75       0.         0.        ]\n",
            " [0.         0.         4.54545455 0.        ]\n",
            " [0.         0.         0.         3.12      ]]\n",
            "Lᵗ =\n",
            " [[ 1.          0.25       -0.25        0.        ]\n",
            " [ 0.          1.         -0.27272727  0.        ]\n",
            " [ 0.          0.          1.          0.44      ]\n",
            " [ 0.          0.          0.          1.        ]]\n",
            "¿L * D * Lᵗ ≈ A?: True\n",
            "\n",
            "Matriz D:\n",
            "L =\n",
            " [[ 1.          0.          0.          0.        ]\n",
            " [ 0.33333333  1.          0.          0.        ]\n",
            " [ 0.16666667  0.2         1.          0.        ]\n",
            " [-0.16666667  0.1        -0.24324324  1.        ]]\n",
            "D =\n",
            " [[6.         0.         0.         0.        ]\n",
            " [0.         3.33333333 0.         0.        ]\n",
            " [0.         0.         3.7        0.        ]\n",
            " [0.         0.         0.         2.58108108]]\n",
            "Lᵗ =\n",
            " [[ 1.          0.33333333  0.16666667 -0.16666667]\n",
            " [ 0.          1.          0.2         0.1       ]\n",
            " [ 0.          0.          1.         -0.24324324]\n",
            " [ 0.          0.          0.          1.        ]]\n",
            "¿L * D * Lᵗ ≈ A?: True\n"
          ]
        }
      ]
    }
  ]
}