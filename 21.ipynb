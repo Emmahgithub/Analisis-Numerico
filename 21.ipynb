{
  "nbformat": 4,
  "nbformat_minor": 0,
  "metadata": {
    "colab": {
      "provenance": [],
      "authorship_tag": "ABX9TyNNDLgzfl45XHL2T/w3J4/O",
      "include_colab_link": true
    },
    "kernelspec": {
      "name": "python3",
      "display_name": "Python 3"
    },
    "language_info": {
      "name": "python"
    }
  },
  "cells": [
    {
      "cell_type": "markdown",
      "metadata": {
        "id": "view-in-github",
        "colab_type": "text"
      },
      "source": [
        "<a href=\"https://colab.research.google.com/github/Emmahgithub/Analisis-Numerico-2025-1/blob/main/21.ipynb\" target=\"_parent\"><img src=\"https://colab.research.google.com/assets/colab-badge.svg\" alt=\"Open In Colab\"/></a>"
      ]
    },
    {
      "cell_type": "markdown",
      "source": [
        "<font color=\"Teal\" face=\"Comic Sans MS,arial\">\n",
        "  <h1 align=\"center\"><i>Tarea 1 Analisis Numerico</i></h1>\n",
        "  </font>\n",
        "  <font color=\"Blue\" face=\"Comic Sans MS,arial\">\n",
        "  <h5 align=\"center\"><i>MARTINEZ ROSAS ZAYDE YAMILE</i></h5>\n",
        "  <h5 align=\"center\"><i>CAMACHO MARIN ANA KAREN</i></h5>\n",
        "  <h5 align=\"center\"><i>LÓPEZ AGUIRRE ROBERTO OCELOTZIN</i></h5>\n",
        "  <h5 align=\"center\"><i>VARGAS BAUTISTA EMMANUEL</i></h5>\n",
        "  </font>"
      ],
      "metadata": {
        "id": "jRRNsGg3iyH5"
      }
    },
    {
      "cell_type": "code",
      "execution_count": null,
      "metadata": {
        "id": "CXyTT5yKsDcl"
      },
      "outputs": [],
      "source": [
        "#necesitamos estas funciones (Ayudante code)\n",
        "import numpy as np\n",
        "\n",
        "def SustitucionDelante(L, b):\n",
        "    n = len(b)\n",
        "    y = np.zeros(n)\n",
        "    for i in range(n):\n",
        "        y[i] = b[i] - np.dot(L[i, :i], y[:i])\n",
        "    return y\n",
        "\n",
        "def SustitucionAtras(U, y):\n",
        "    n = len(y)\n",
        "    x = np.zeros(n)\n",
        "    for i in reversed(range(n)):\n",
        "        x[i] = (y[i] - np.dot(U[i, i+1:], x[i+1:])) / U[i, i]\n",
        "    return x"
      ]
    },
    {
      "cell_type": "code",
      "source": [
        "\n",
        "# Factorización LU sin pivoteo (ayudante)\n",
        "def LU(A):\n",
        "  U=np.copy(A)\n",
        "  L=np.eye(A.shape[0])\n",
        "\n",
        "  for i in range(A.shape[0]):\n",
        "    Li=np.eye(A.shape[0])\n",
        "    for j in range(i+1,A.shape[0]):\n",
        "      Li[j,i]=-U[j,i]/U[i,i]\n",
        "      L[j,i]=U[j,i]/U[i,i]\n",
        "    U=Li@U\n",
        "  return L,U\n",
        "\n",
        "def SolverLU(A, b):\n",
        "    L, U = LU(A)\n",
        "    y = SustitucionDelante(L, b)\n",
        "    x = SustitucionAtras(U, y)\n",
        "    return x"
      ],
      "metadata": {
        "id": "TYIelfyjza1j"
      },
      "execution_count": null,
      "outputs": []
    },
    {
      "cell_type": "code",
      "source": [
        "\n",
        "# Factorizacion LU con pivoteo parcial (parcial ayudante)\n",
        "def Permutaciones(A,b):\n",
        "  U=np.copy(A)\n",
        "  x=np.copy(b)\n",
        "  P=np.eye(A.shape[0])\n",
        "\n",
        "  for j in range(A.shape[0]):\n",
        "    k=np.argmax(np.abs(A[j:,j]))+j\n",
        "    U[[j,k]]=U[[k,j]]\n",
        "    P[[j,k]]=P[[k,j]]\n",
        "    x[[j,k]]=x[[k,j]]\n",
        "\n",
        "  return P,U,x\n",
        "\n",
        "\n",
        "\n",
        "def Solver_LU_Pivot_Partial(A,b):\n",
        "    P, Q, Ap, bp = Permutaciones(A,b)  # Ahora capturamos los 4 valores\n",
        "    x = SolverLU(Ap, bp)\n",
        "    x = Q @ x  # Aplicamos la permutación de columnas\n",
        "    return x\n"
      ],
      "metadata": {
        "id": "I_0xRNYVzxdP"
      },
      "execution_count": null,
      "outputs": []
    },
    {
      "cell_type": "code",
      "source": [
        "# Factorización LU con pivoteo (ayudante)\n",
        "\n",
        "def Permutaciones(A, b):\n",
        "    n = A.shape[0]  # Tamaño de la matriz (n x n)\n",
        "    U = np.copy(A)  # Copia de la matriz A para no modificarla directamente\n",
        "    x = np.copy(b)  # Copia del vector b\n",
        "    P = np.eye(n)   # Matriz de permutación de filas (inicialmente identidad)\n",
        "    Q = np.eye(n)   # Matriz de permutación de columnas (inicialmente identidad)\n",
        "\n",
        "    for k in range(n - 1):\n",
        "        # --- PASO 1: Encontrar el pivote máximo en la submatriz U[k:, k:] ---\n",
        "        # np.abs(U[k:, k:]): Valores absolutos de la submatriz desde (k,k) hasta el final\n",
        "        # np.argmax(...): Índice lineal del elemento con mayor valor absoluto (en arreglo aplanado)\n",
        "        # np.unravel_index(...): Convierte el índice lineal a coordenadas (fila, columna) en la submatriz\n",
        "        max_row, max_col = np.unravel_index(np.argmax(np.abs(U[k:, k:])), (n - k, n - k))\n",
        "\n",
        "        # Ajustar índices para referenciar la posición en la matriz original U (no solo la submatriz)\n",
        "        max_row += k\n",
        "        max_col += k\n",
        "\n",
        "        # --- PASO 2: Intercambiar filas para llevar el pivote a la posición (k,k) ---\n",
        "        # Intercambia filas en U\n",
        "        U[[k, max_row]] = U[[max_row, k]]\n",
        "        # Intercambia filas en la matriz de permutación P\n",
        "        P[[k, max_row]] = P[[max_row, k]]\n",
        "        # Intercambia elementos en el vector x\n",
        "        x[[k, max_row]] = x[[max_row, k]]\n",
        "\n",
        "        # --- PASO 3: Intercambiar columnas para optimizar la factorización ---\n",
        "        # Intercambia columnas en U\n",
        "        U[:, [k, max_col]] = U[:, [max_col, k]]\n",
        "        # Intercambia columnas en la matriz de permutación Q\n",
        "        Q[:, [k, max_col]] = Q[:, [max_col, k]]\n",
        "\n",
        "    return P, Q, U, x  # Devuelve: Matrices de permutación, matriz triangular, y vector modificado\n",
        "\n",
        "\n",
        "def Solver_LU_Pivot_Total(A,b):\n",
        "    P,Q,A_g,b_g=Permutaciones(A,b)\n",
        "    x=SolverLU(A_g,b_g)\n",
        "    x=Q@x\n",
        "\n",
        "    return x\n",
        "\n"
      ],
      "metadata": {
        "id": "lXXsV-XEznZK"
      },
      "execution_count": null,
      "outputs": []
    },
    {
      "cell_type": "code",
      "source": [
        "  #matrices solionar con cada uno de los metodos de factorizacion LU\n",
        "# (a)\n",
        "A1 = np.array([[4, -1, 3],\n",
        "               [-8, 4, -7],\n",
        "               [12, 1, 8]], dtype=float)\n",
        "b1 = np.array([-8, 19, -19], dtype=float)\n",
        "\n",
        "# (b)\n",
        "A2 = np.array([[1, 4, -2, 1],\n",
        "               [-2, -4, -3, 1],\n",
        "               [1, 16, -17, 9],\n",
        "               [2, 4, -9, -3]], dtype=float)\n",
        "b2 = np.array([3.5, -2.5, 15, 10.5], dtype=float)\n",
        "\n",
        "# (c)\n",
        "A3 = np.array([[4, 5, -1, 2, 3],\n",
        "               [12, 13, 0, 10, 3],\n",
        "               [-8, -8, 5, -11, 4],\n",
        "               [16, 18, -7, 20, 4],\n",
        "               [-4, -9, 31, -31, -1]], dtype=float)\n",
        "b3 = np.array([34, 93, -33, 131, -58], dtype=float)\n",
        "\n",
        "\n",
        "#implementacion para conocer y ver las difencias entre cada uno de los metodos\n",
        "\n",
        "# Resolver con LU sin pivoteo\n",
        "print(\"=== Método LU sin pivoteo ===\")\n",
        "print(\"Sistema (a):\", A1 @ SolverLU(A1, b1))\n",
        "print(\"Sistema (b):\", A2 @ SolverLU(A2, b2))\n",
        "print(\"Sistema (c):\", A3 @ SolverLU(A3, b3))\n",
        "\n",
        "# Resolver con LU con pivoteo parcial\n",
        "print(\"\\n=== Método LU con pivoteo parcial ===\")\n",
        "print(\"Sistema (a):\", A1 @ Solver_LU_Pivot_Partial(A1, b1))\n",
        "print(\"Sistema (b):\", A2 @ Solver_LU_Pivot_Partial(A2, b2))\n",
        "print(\"Sistema (c):\", A3 @ Solver_LU_Pivot_Partial(A3, b3))\n",
        "\n",
        "# Resolver con LU con pivoteo total\n",
        "print(\"\\n=== Método LU con pivoteo total ===\")\n",
        "print(\"Sistema (a):\", A1 @ Solver_LU_Pivot_Total(A1, b1))\n",
        "print(\"Sistema (b):\", A2 @ Solver_LU_Pivot_Total(A2, b2))\n",
        "print(\"Sistema (c):\", A3 @ Solver_LU_Pivot_Total(A3, b3))\n",
        "\n",
        "# Verificación\n",
        "print(\"\\n=== Verificación ===\")\n",
        "print(\"A1 @ x =\", A1 @ Solver_LU_Pivot_Total(A1, b1))\n",
        "print(\"A2 @ x =\", A2 @ Solver_LU_Pivot_Total(A2, b2))\n",
        "print(\"A3 @ x =\", A3 @ Solver_LU_Pivot_Total(A3, b3))\n"
      ],
      "metadata": {
        "colab": {
          "base_uri": "https://localhost:8080/"
        },
        "id": "VZd1f711z5H-",
        "outputId": "1fce8855-f943-4756-9f2b-e3cb1e1468b4"
      },
      "execution_count": null,
      "outputs": [
        {
          "output_type": "stream",
          "name": "stdout",
          "text": [
            "=== Método LU sin pivoteo ===\n",
            "Sistema (a): [ -8.  19. -19.]\n",
            "Sistema (b): [ 3.5 -2.5 15.  10.5]\n",
            "Sistema (c): [ 34.  93. -33. 131. -58.]\n",
            "\n",
            "=== Método LU con pivoteo parcial ===\n",
            "Sistema (a): [ -8.  19. -19.]\n",
            "Sistema (b): [ 3.5 -2.5 15.  10.5]\n",
            "Sistema (c): [ 34.  93. -33. 131. -58.]\n",
            "\n",
            "=== Método LU con pivoteo total ===\n",
            "Sistema (a): [ -8.  19. -19.]\n",
            "Sistema (b): [ 3.5 -2.5 15.  10.5]\n",
            "Sistema (c): [ 34.  93. -33. 131. -58.]\n",
            "\n",
            "=== Verificación ===\n",
            "A1 @ x = [ -8.  19. -19.]\n",
            "A2 @ x = [ 3.5 -2.5 15.  10.5]\n",
            "A3 @ x = [ 34.  93. -33. 131. -58.]\n"
          ]
        }
      ]
    }
  ]
}