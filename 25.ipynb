{
  "nbformat": 4,
  "nbformat_minor": 0,
  "metadata": {
    "colab": {
      "provenance": [],
      "authorship_tag": "ABX9TyNE/dxlAnQBhnZhBOD1PqQN",
      "include_colab_link": true
    },
    "kernelspec": {
      "name": "python3",
      "display_name": "Python 3"
    },
    "language_info": {
      "name": "python"
    }
  },
  "cells": [
    {
      "cell_type": "markdown",
      "metadata": {
        "id": "view-in-github",
        "colab_type": "text"
      },
      "source": [
        "<a href=\"https://colab.research.google.com/github/Emmahgithub/Analisis-Numerico/blob/main/25.ipynb\" target=\"_parent\"><img src=\"https://colab.research.google.com/assets/colab-badge.svg\" alt=\"Open In Colab\"/></a>"
      ]
    },
    {
      "cell_type": "markdown",
      "source": [
        "<font color=\"Teal\" face=\"Comic Sans MS,arial\">\n",
        "  <h1 align=\"center\"><i>Tarea 1 Analisis Numerico</i></h1>\n",
        "  </font>\n",
        "  <font color=\"Blue\" face=\"Comic Sans MS,arial\">\n",
        "  <h5 align=\"center\"><i>MARTINEZ ROSAS ZAYDE YAMILE</i></h5>\n",
        "  <h5 align=\"center\"><i>CAMACHO MARIN ANA KAREN</i></h5>\n",
        "  <h5 align=\"center\"><i>LÓPEZ AGUIRRE ROBERTO OCELOTZIN</i></h5>\n",
        "  <h5 align=\"center\"><i>VARGAS BAUTISTA EMMANUEL</i></h5>\n",
        "  </font>"
      ],
      "metadata": {
        "id": "jRRNsGg3iyH5"
      }
    },
    {
      "cell_type": "code",
      "source": [
        "# Librerias\n",
        "import numpy as np"
      ],
      "metadata": {
        "id": "p90y6I28XdbV"
      },
      "execution_count": null,
      "outputs": []
    },
    {
      "cell_type": "code",
      "source": [
        "def simetrica(A):\n",
        "  \"\"\"Verifica que la matriz A sea simétrica.\"\"\"\n",
        "  n = len(A)\n",
        "  for i in range(n):\n",
        "    for j in range(i, n):\n",
        "      if A[i][j] != A[j][i]:\n",
        "        return False\n",
        "  return True"
      ],
      "metadata": {
        "id": "aMSLTIIsAK9i"
      },
      "execution_count": null,
      "outputs": []
    },
    {
      "cell_type": "markdown",
      "source": [
        "## a)\n"
      ],
      "metadata": {
        "id": "L5-PiP6xDUM7"
      }
    },
    {
      "cell_type": "code",
      "source": [
        "def cholesky_desc_LLt(A):\n",
        "\n",
        "  \"\"\"\n",
        "  Realiza la factorización de Cholesky para una matriz A.\n",
        "  La matriz A debe ser simétrica y definida positiva.\n",
        "\n",
        "  Retorna la matriz triangular inferior L tal que A = L * L^T.\n",
        "  \"\"\"\n",
        "\n",
        "  # Verifica que la matriz sea simétrica\n",
        "  if not simetrica(A):\n",
        "    raise ValueError(\"La matriz no es simétrica.\")\n",
        "\n",
        "\n",
        "  n = len(A) #Tamaño de la matriz\n",
        "  L = [[0.0] * n for _ in range(n)] # L inicia como una matriz de ceros del tamaño que A\n",
        "\n",
        "  # Itera sobre las columnas (y filas, por simetría) de A\n",
        "  for j in range(n):\n",
        "    # Suma de los cuadrados de los elementos anteriores en la fila j\n",
        "    suma_cuadrados = 0.0\n",
        "    for k in range(j):\n",
        "      suma_cuadrados += L[j][k] ** 2\n",
        "\n",
        "    # Calcula el valor diagonal de L\n",
        "    diag = A[j][j] - suma_cuadrados\n",
        "    if diag <= 0:\n",
        "      raise ValueError(\"La matriz no es definida positiva.\")\n",
        "    L[j][j] = diag ** 0.5\n",
        "\n",
        "    # Calcula los elementos debajo de la diagonal en la columna j\n",
        "    for i in range(j + 1, n):\n",
        "      suma_producto = 0.0\n",
        "      for k in range(j):\n",
        "        suma_producto += L[i][k] * L[j][k]\n",
        "      L[i][j] = (A[i][j] - suma_producto) / L[j][j]\n",
        "  return L"
      ],
      "metadata": {
        "id": "wnSIx3kTXiXr"
      },
      "execution_count": null,
      "outputs": []
    },
    {
      "cell_type": "markdown",
      "source": [
        "#b)\n"
      ],
      "metadata": {
        "id": "60q_47TJXqxN"
      }
    },
    {
      "cell_type": "code",
      "source": [
        "def cholesky_desc_LDLt(A):\n",
        "\n",
        "  \"\"\"\n",
        "  Realiza la factorización de Cholesky para una matriz A.\n",
        "  La matriz A debe ser simétrica y definida positiva.\n",
        "\n",
        "  Retorna\n",
        "  L, matriz triangular inferior\n",
        "  D, lista que representa la diagonal de la matriz D\n",
        "  tal que A = L * D * L^T.\n",
        "  \"\"\"\n",
        "\n",
        "  # Verifica que la matriz sea simétrica\n",
        "  if not simetrica(A):\n",
        "    raise ValueError(\"La matriz debe ser simétrica.\")\n",
        "\n",
        "  n = len(A) # Tamaño de la matriz\n",
        "  L = [[0.0] * n for _ in range(n)] # Inicializa L como matriz de ceros\n",
        "  D = [0.0] * n # D como lista de ceros\n",
        "\n",
        "  # Itera sobre cada columna j para calcular L y D\n",
        "  for j in range(n):\n",
        "    suma = 0.0\n",
        "    # Calcula la suma de L[j][k]^2 * D[k] para k < j\n",
        "    for k in range(j):\n",
        "      suma += L[j][k] ** 2 * D[k]\n",
        "\n",
        "    # Calcula el valor D[j][j]\n",
        "    D[j] = A[j][j] - suma\n",
        "    if D[j] <= 0:\n",
        "      raise ValueError(\"La matriz no es definida positiva.\")\n",
        "\n",
        "    # Calcula los elementos L[i][j] para i > j\n",
        "    for i in range(j + 1, n):\n",
        "      suma_prod = 0.0\n",
        "      for k in range(j):\n",
        "        suma_prod += L[i][k] * L[j][k] * D[k]\n",
        "      L[i][j] = (A[i][j] - suma_prod) / D[j]\n",
        "\n",
        "    # Establece la diagonal de L en 1\n",
        "    L[j][j] = 1.0\n",
        "\n",
        "  return L, D"
      ],
      "metadata": {
        "id": "hX4e_BYDXocU"
      },
      "execution_count": null,
      "outputs": []
    }
  ]
}