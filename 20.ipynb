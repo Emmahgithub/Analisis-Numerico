{
  "nbformat": 4,
  "nbformat_minor": 0,
  "metadata": {
    "colab": {
      "provenance": [],
      "authorship_tag": "ABX9TyN12+D8yqbFIIOXKnuJObbC",
      "include_colab_link": true
    },
    "kernelspec": {
      "name": "python3",
      "display_name": "Python 3"
    },
    "language_info": {
      "name": "python"
    }
  },
  "cells": [
    {
      "cell_type": "markdown",
      "metadata": {
        "id": "view-in-github",
        "colab_type": "text"
      },
      "source": [
        "<a href=\"https://colab.research.google.com/github/Emmahgithub/Analisis-Numerico-2025-1/blob/main/20.ipynb\" target=\"_parent\"><img src=\"https://colab.research.google.com/assets/colab-badge.svg\" alt=\"Open In Colab\"/></a>"
      ]
    },
    {
      "cell_type": "markdown",
      "source": [
        "<font color=\"Teal\" face=\"Comic Sans MS,arial\">\n",
        "  <h1 align=\"center\"><i>Tarea 1 Analisis Numerico</i></h1>\n",
        "  </font>\n",
        "  <font color=\"Blue\" face=\"Comic Sans MS,arial\">\n",
        "  <h5 align=\"center\"><i>MARTINEZ ROSAS ZAYDE YAMILE</i></h5>\n",
        "  <h5 align=\"center\"><i>CAMACHO MARIN ANA KAREN</i></h5>\n",
        "  <h5 align=\"center\"><i>LÓPEZ AGUIRRE ROBERTO OCELOTZIN</i></h5>\n",
        "  <h5 align=\"center\"><i>VARGAS BAUTISTA EMMANUEL</i></h5>\n",
        "  </font>"
      ],
      "metadata": {
        "id": "jRRNsGg3iyH5"
      }
    },
    {
      "cell_type": "code",
      "execution_count": null,
      "metadata": {
        "colab": {
          "base_uri": "https://localhost:8080/"
        },
        "id": "CXyTT5yKsDcl",
        "outputId": "0763cede-4db0-4c3e-df84-dbb02fc0bc88"
      },
      "outputs": [
        {
          "output_type": "stream",
          "name": "stdout",
          "text": [
            "Solución (a): [-7.  4.  0.]\n"
          ]
        }
      ],
      "source": [
        "import numpy as np\n",
        "\n",
        "\n",
        "#Inciso a)\n",
        "\n",
        "# Sustitucion hacia atras (Codigo ayudante)\n",
        "def SustitucionAtras(Mat, b):\n",
        "    n = Mat.shape[0]\n",
        "    x = np.zeros(n)\n",
        "    for i in range(n-1, -1, -1):\n",
        "        SumCum = 0.0\n",
        "        for j in range(i+1, n):\n",
        "            SumCum += Mat[i, j] * x[j]\n",
        "        x[i] = (b[i] - SumCum) / Mat[i, i]\n",
        "    return x\n",
        "\n",
        "# Eliminar hacia adelante (Gauss) (Codigo ayudante - Implementacion propia)\n",
        "def gaussian_elimination(A, b):\n",
        "    A = A.astype(float)\n",
        "    b = b.astype(float)\n",
        "    n = len(A)\n",
        "    for i in range(n):\n",
        "        pivot = A[i, i]\n",
        "        A[i] = A[i] / pivot\n",
        "        b[i] = b[i] / pivot\n",
        "        for j in range(i + 1, n):\n",
        "            factor = A[j, i]\n",
        "            A[j] = A[j] - factor * A[i]\n",
        "            b[j] = b[j] - factor * b[i]\n",
        "    return A, b\n",
        "\n",
        "# Ejemplo que se pide resolver en el insiso a=\n",
        "A = np.array([[2, 4, -2],\n",
        "              [4, 9, -3],\n",
        "              [-2, -1, 7]], dtype=float)\n",
        "\n",
        "b = np.array([2, 8, 10], dtype=float)\n",
        "\n",
        "# Aplicamos la eliminacion gauseana para copias para a si no modificar las matrices originales\n",
        "U, b_mod = gaussian_elimination(A.copy(), b.copy())\n",
        "\n",
        "# Sustitución hacia atrás para resolver el sistema de ecuacines restante\n",
        "x = SustitucionAtras(U, b_mod)\n",
        "print(\"Solución (a):\", x)\n"
      ]
    },
    {
      "cell_type": "code",
      "source": [
        "#inciso b)\n",
        "# Sustitución hacia adelante (codigo ayudante)\n",
        "def SustitucionDelante(Mat, b):\n",
        "    n = Mat.shape[0]\n",
        "    x = np.zeros(n)\n",
        "    for i in range(n):\n",
        "        SumCum = 0.0\n",
        "        for j in range(i):\n",
        "            SumCum += Mat[i, j] * x[j]\n",
        "        x[i] = (b[i] - SumCum) / Mat[i, i]\n",
        "    return x\n",
        "\n",
        "# Factorización LU sin pivoteo (ayudante)\n",
        "def LU(A):\n",
        "  U=np.copy(A)\n",
        "  L=np.eye(A.shape[0])\n",
        "\n",
        "  for i in range(A.shape[0]):\n",
        "    Li=np.eye(A.shape[0])\n",
        "    for j in range(i+1,A.shape[0]):\n",
        "      Li[j,i]=-U[j,i]/U[i,i]\n",
        "      L[j,i]=U[j,i]/U[i,i]\n",
        "    U=Li@U\n",
        "  return L,U\n",
        "\n",
        "\n",
        "# ejercicio insiso c) matriz dada\n",
        "c = np.array([4, 8, -6], dtype=float)\n",
        "\n",
        "\n",
        "\n",
        "#Codigo ayudante tmb\n",
        "def SolverLU(A,b):\n",
        "  L,U=LU(A)\n",
        "  # El sistema que se resuelve es Ly=b\n",
        "  y=SustitucionDelante(L, b)\n",
        "  # El sistema que se resuelve es Ux=y\n",
        "  x=SustitucionAtras(U, y)\n",
        "\n",
        "  return x\n",
        "\n",
        "\n",
        "#simplemente aplicamos el metodo\n",
        "sol=SolverLU(A,c)\n",
        "print(\"Solución (b):\", sol)\n",
        "\n"
      ],
      "metadata": {
        "colab": {
          "base_uri": "https://localhost:8080/"
        },
        "id": "rsTCCVF9wSuI",
        "outputId": "7d95b01c-726d-43e4-86e4-d046934e1c37"
      },
      "execution_count": null,
      "outputs": [
        {
          "output_type": "stream",
          "name": "stdout",
          "text": [
            "Solución (b): [-1.  1. -1.]\n"
          ]
        }
      ]
    }
  ]
}